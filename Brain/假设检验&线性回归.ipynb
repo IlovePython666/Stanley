{
 "cells": [
  {
   "cell_type": "code",
   "execution_count": 5,
   "metadata": {},
   "outputs": [],
   "source": [
    "\n",
    "#假设检验\n",
    "import numpy as np\n",
    "import pandas as pd\n",
    "from scipy import stats\n",
    "import seaborn as sns\n",
    "import matplotlib.pyplot as plt\n",
    "from pylab import mpl\n",
    "mpl.rcParams['font.sans-serif']=['SimHei']\n",
    "mpl.rcParams['axes.unicode_minus']=False\n",
    "#样本数据集 H0：平均值u<18.5；H1：平均值u>=18.5\n",
    "dataSer=pd.Series([27.96,22.90,8.30,49.78,24.88,14.55,26.22,28.21,34.71,12.99,21.89,9.86,20.26,23.36,                  36.02,22.94,12.10,22.43,22.13,16.48,33.75,26.05,12.21,24.49,14.87,14.87,27.84,37.10])\n",
    "#计算样本均值、样本标准差\n",
    "sample_mean=dataSer.mean()\n",
    "sample_std=dataSer.std()"
   ]
  },
  {
   "cell_type": "code",
   "execution_count": 6,
   "metadata": {},
   "outputs": [
    {
     "data": {
      "text/plain": [
       "23.183928571428577"
      ]
     },
     "execution_count": 6,
     "metadata": {},
     "output_type": "execute_result"
    }
   ],
   "source": [
    "sample_mean"
   ]
  },
  {
   "cell_type": "code",
   "execution_count": 7,
   "metadata": {},
   "outputs": [
    {
     "data": {
      "text/plain": [
       "9.463555959686422"
      ]
     },
     "execution_count": 7,
     "metadata": {},
     "output_type": "execute_result"
    }
   ],
   "source": [
    "sample_std"
   ]
  },
  {
   "cell_type": "code",
   "execution_count": 4,
   "metadata": {},
   "outputs": [
    {
     "name": "stderr",
     "output_type": "stream",
     "text": [
      "/Users/stanley/opt/anaconda3/lib/python3.8/site-packages/seaborn/distributions.py:2551: FutureWarning: `distplot` is a deprecated function and will be removed in a future version. Please adapt your code to use either `displot` (a figure-level function with similar flexibility) or `histplot` (an axes-level function for histograms).\n",
      "  warnings.warn(msg, FutureWarning)\n"
     ]
    },
    {
     "data": {
      "text/plain": [
       "Text(0.5, 1.0, 'data_distribution')"
      ]
     },
     "execution_count": 4,
     "metadata": {},
     "output_type": "execute_result"
    },
    {
     "data": {
      "image/png": "[encoded data removed]",
      "text/plain": [
       "<Figure size 432x288 with 1 Axes>"
      ]
     },
     "metadata": {
      "needs_background": "light"
     },
     "output_type": "display_data"
    }
   ],
   "source": [
    "\n",
    "#通过直方图查看数据分布，还可做出拟合曲线\n",
    "sns.distplot(dataSer)\n",
    "plt.title('data_distribution')"
   ]
  },
  {
   "cell_type": "code",
   "execution_count": 8,
   "metadata": {},
   "outputs": [
    {
     "name": "stdout",
     "output_type": "stream",
     "text": [
      "标准误差为1.79\n",
      "t=2.619\n"
     ]
    }
   ],
   "source": [
    "n=28\n",
    "SE=sample_std/(np.sqrt(n))\n",
    "#②计算t值\n",
    "pop_mean=18.5\n",
    "t=(sample_mean-pop_mean)/SE\n",
    "print('标准误差为%.2f'%SE) #.2f 保留两位小数\n",
    "print('t=%.3f'%t)"
   ]
  },
  {
   "cell_type": "code",
   "execution_count": 15,
   "metadata": {},
   "outputs": [
    {
     "name": "stdout",
     "output_type": "stream",
     "text": [
      "假设检验t值为2.619，相应的概率p值为0.0071\n"
     ]
    }
   ],
   "source": [
    "\n",
    "t,p_twotail=stats.ttest_1samp(dataSer,pop_mean)\n",
    "p_onetail=p_twotail/2\n",
    "print('假设检验t值为%.3f，相应的概率p值为%.4f'%(t,p_onetail))"
   ]
  },
  {
   "cell_type": "code",
   "execution_count": null,
   "metadata": {},
   "outputs": [],
   "source": [
    "输入：样本数据以及总体均值；输出：t值以及概率p值\n",
    "\n",
    "①单(lsamp)样本t检验(ttest_lsamp)\n",
    "\n",
    "②相关(related)配对t检验(ttest_rel)\n",
    "\n",
    "③双独立(independent)样本t检验(ttest_ind)\n",
    "\n",
    "做出结论：\n",
    "\n",
    "左尾判断条件：t<0,且概率p值<显著性水平\n",
    "\n",
    "右尾判断条件：t>0,且概率p值<显著性水平"
   ]
  },
  {
   "cell_type": "code",
   "execution_count": 17,
   "metadata": {},
   "outputs": [
    {
     "name": "stdout",
     "output_type": "stream",
     "text": [
      "拒绝原假设，有统计显著，平均值u>18.5\n"
     ]
    }
   ],
   "source": [
    "'''95%置信区间，右尾查表t=1.703（查0.05）'''\n",
    "alpha=0.05\n",
    "if (t>0 and p_onetail<alpha):\n",
    "    print('拒绝原假设，有统计显著，平均值u>18.5')\n",
    "else:\n",
    "    print('接受原假设，无统计显著，平均值u<=18.5')\n"
   ]
  },
  {
   "cell_type": "code",
   "execution_count": 18,
   "metadata": {},
   "outputs": [
    {
     "name": "stdout",
     "output_type": "stream",
     "text": [
      "单个平均值的置信区间，95置信水平CI=[19.514,26.854]\n"
     ]
    }
   ],
   "source": [
    "#计算置信区间：\n",
    "'''按照df=27,置信水平为95%查表得t值（此处应为双尾，查0.025）'''\n",
    "t_ci=2.052\n",
    "SE=stats.sem(dataSer)  #scipy计算标准误差\n",
    "#置信区间上下限\n",
    "a=sample_mean-t_ci*SE\n",
    "b=sample_mean+t_ci*SE\n",
    "print('单个平均值的置信区间，95置信水平CI=[%.3f,%.3f]'%(a,b))"
   ]
  },
  {
   "cell_type": "code",
   "execution_count": null,
   "metadata": {},
   "outputs": [],
   "source": []
  },
  {
   "cell_type": "code",
   "execution_count": null,
   "metadata": {},
   "outputs": [],
   "source": [
    "一元线性回归"
   ]
  },
  {
   "cell_type": "code",
   "execution_count": null,
   "metadata": {},
   "outputs": [],
   "source": []
  },
  {
   "cell_type": "code",
   "execution_count": 20,
   "metadata": {},
   "outputs": [
    {
     "data": {
      "text/html": [
       "<div>\n",
       "<style scoped>\n",
       "    .dataframe tbody tr th:only-of-type {\n",
       "        vertical-align: middle;\n",
       "    }\n",
       "\n",
       "    .dataframe tbody tr th {\n",
       "        vertical-align: top;\n",
       "    }\n",
       "\n",
       "    .dataframe thead th {\n",
       "        text-align: right;\n",
       "    }\n",
       "</style>\n",
       "<table border=\"1\" class=\"dataframe\">\n",
       "  <thead>\n",
       "    <tr style=\"text-align: right;\">\n",
       "      <th></th>\n",
       "      <th>age</th>\n",
       "      <th>height</th>\n",
       "      <th>weight</th>\n",
       "    </tr>\n",
       "    <tr>\n",
       "      <th>序号</th>\n",
       "      <th></th>\n",
       "      <th></th>\n",
       "      <th></th>\n",
       "    </tr>\n",
       "  </thead>\n",
       "  <tbody>\n",
       "    <tr>\n",
       "      <th>1</th>\n",
       "      <td>21</td>\n",
       "      <td>163</td>\n",
       "      <td>60</td>\n",
       "    </tr>\n",
       "    <tr>\n",
       "      <th>2</th>\n",
       "      <td>22</td>\n",
       "      <td>164</td>\n",
       "      <td>56</td>\n",
       "    </tr>\n",
       "    <tr>\n",
       "      <th>3</th>\n",
       "      <td>21</td>\n",
       "      <td>165</td>\n",
       "      <td>60</td>\n",
       "    </tr>\n",
       "    <tr>\n",
       "      <th>4</th>\n",
       "      <td>23</td>\n",
       "      <td>168</td>\n",
       "      <td>55</td>\n",
       "    </tr>\n",
       "    <tr>\n",
       "      <th>5</th>\n",
       "      <td>21</td>\n",
       "      <td>169</td>\n",
       "      <td>60</td>\n",
       "    </tr>\n",
       "  </tbody>\n",
       "</table>\n",
       "</div>"
      ],
      "text/plain": [
       "    age  height  weight\n",
       "序号                     \n",
       "1    21     163      60\n",
       "2    22     164      56\n",
       "3    21     165      60\n",
       "4    23     168      55\n",
       "5    21     169      60"
      ]
     },
     "execution_count": 20,
     "metadata": {},
     "output_type": "execute_result"
    }
   ],
   "source": [
    "#导入cv模块\n",
    "import numpy as np\n",
    "import matplotlib as mpl\n",
    "import matplotlib.pyplot as plt\n",
    "import pandas as pd\n",
    "data=pd.read_excel('/Users//stanley//Desktop//线性回归案例.xlsx',header=0,index_col=0)\n",
    "data.head()\n"
   ]
  },
  {
   "cell_type": "code",
   "execution_count": 21,
   "metadata": {},
   "outputs": [
    {
     "data": {
      "image/png": "[encoded data removed]",
      "text/plain": [
       "<Figure size 432x288 with 1 Axes>"
      ]
     },
     "metadata": {
      "needs_background": "light"
     },
     "output_type": "display_data"
    }
   ],
   "source": [
    "\n",
    "plt.scatter(data['age'].values,data['weight'].values)  #体重与年龄的散点图\n",
    "plt.show()"
   ]
  },
  {
   "cell_type": "code",
   "execution_count": 22,
   "metadata": {},
   "outputs": [
    {
     "data": {
      "image/png": "[encoded data removed]",
      "text/plain": [
       "<Figure size 432x288 with 1 Axes>"
      ]
     },
     "metadata": {
      "needs_background": "light"
     },
     "output_type": "display_data"
    }
   ],
   "source": [
    "\n",
    "plt.scatter(data['height'].values,data['weight'].values)  #体重与身高的散点图\n",
    "plt.show()"
   ]
  },
  {
   "cell_type": "code",
   "execution_count": 23,
   "metadata": {},
   "outputs": [
    {
     "name": "stdout",
     "output_type": "stream",
     "text": [
      "             age     height     weight\n",
      "age     0.937931   2.537931   2.993103\n",
      "height  2.537931  39.182759  46.789655\n",
      "weight  2.993103  46.789655  84.162069\n",
      "             age    height    weight\n",
      "age     1.000000  0.418646  0.336882\n",
      "height  0.418646  1.000000  0.814787\n",
      "weight  0.336882  0.814787  1.000000\n"
     ]
    }
   ],
   "source": [
    "print(data.cov())     #协方差矩阵\n",
    "print(data.corr())    #相关系数矩阵"
   ]
  },
  {
   "cell_type": "code",
   "execution_count": 24,
   "metadata": {},
   "outputs": [
    {
     "name": "stdout",
     "output_type": "stream",
     "text": [
      "                            OLS Regression Results                            \n",
      "==============================================================================\n",
      "Dep. Variable:                 weight   R-squared:                       0.664\n",
      "Model:                            OLS   Adj. R-squared:                  0.652\n",
      "Method:                 Least Squares   F-statistic:                     55.30\n",
      "Date:                Mon, 28 Dec 2020   Prob (F-statistic):           4.24e-08\n",
      "Time:                        16:21:22   Log-Likelihood:                -92.197\n",
      "No. Observations:                  30   AIC:                             188.4\n",
      "Df Residuals:                      28   BIC:                             191.2\n",
      "Df Model:                           1                                         \n",
      "Covariance Type:            nonrobust                                         \n",
      "==============================================================================\n",
      "                 coef    std err          t      P>|t|      [0.025      0.975]\n",
      "------------------------------------------------------------------------------\n",
      "const       -141.2970     26.401     -5.352      0.000    -195.377     -87.217\n",
      "height         1.1941      0.161      7.437      0.000       0.865       1.523\n",
      "==============================================================================\n",
      "Omnibus:                       15.009   Durbin-Watson:                   1.928\n",
      "Prob(Omnibus):                  0.001   Jarque-Bera (JB):               17.777\n",
      "Skew:                           1.280   Prob(JB):                     0.000138\n",
      "Kurtosis:                       5.770   Cond. No.                     4.39e+03\n",
      "==============================================================================\n",
      "\n",
      "Notes:\n",
      "[1] Standard Errors assume that the covariance matrix of the errors is correctly specified.\n",
      "[2] The condition number is large, 4.39e+03. This might indicate that there are\n",
      "strong multicollinearity or other numerical problems.\n"
     ]
    }
   ],
   "source": [
    "#载入OLS回归库\n",
    "import statsmodels.api as sm \n",
    "model1 = sm.OLS(data['weight'], sm.add_constant(data['height'])) #身高的散点图及相关系数与体重较高，故选择二者进行回归验证\n",
    "result = model1.fit()\n",
    "result.summary()  \n",
    "print(result.summary())"
   ]
  },
  {
   "cell_type": "code",
   "execution_count": null,
   "metadata": {},
   "outputs": [],
   "source": [
    "解释分析：\n",
    "\n",
    "拟合的方程结果为 体重=-141.2970+1.1941×身高\n",
    "\n",
    "R方=0.664 拟合程度一般，并不是特别好；\n",
    "\n",
    "P值均为0<0.5，说明均拒绝原假设，即截距项和斜率均不为0；\n",
    "\n",
    "截距项的置信区间【-195.377，-87.217】，斜率的置信区间【0.865，1.523】"
   ]
  },
  {
   "cell_type": "code",
   "execution_count": 29,
   "metadata": {},
   "outputs": [
    {
     "data": {
      "image/png": "[encoded data removed]",
      "text/plain": [
       "<Figure size 432x288 with 1 Axes>"
      ]
     },
     "metadata": {
      "needs_background": "light"
     },
     "output_type": "display_data"
    }
   ],
   "source": [
    "#绘制线性回归图\n",
    "from matplotlib.font_manager import FontProperties\n",
    "#font = FontProperties(fname=r\"c:\\windows\\fonts\\simsun.ttc\", size=12) \n",
    "plt.scatter(data['height'], data['weight'])\n",
    "plt.plot([150,175], [150*1.1941-141.2970,175*1.1941-141.2970],linewidth=0.5)\n",
    "plt.xlabel('height/cm')\n",
    "plt.ylabel(\"weight/kg\")\n",
    "plt.title('height_weight')#身高与体重的线性回归图\n",
    "plt.show()"
   ]
  },
  {
   "cell_type": "code",
   "execution_count": 30,
   "metadata": {},
   "outputs": [
    {
     "data": {
      "image/png": "[encoded data removed]",
      "text/plain": [
       "<Figure size 1440x720 with 1 Axes>"
      ]
     },
     "metadata": {
      "needs_background": "light"
     },
     "output_type": "display_data"
    }
   ],
   "source": [
    "#残差图\n",
    "plt.figure(figsize = (20,10))\n",
    "plt.scatter(data.height,result.resid)\n",
    "plt.axhline(0.05)\n",
    "plt.axhline(-0.05)\n",
    "plt.xlabel('x value')\n",
    "plt.ylabel('residual')\n",
    "plt.show()"
   ]
  },
  {
   "cell_type": "code",
   "execution_count": null,
   "metadata": {},
   "outputs": [],
   "source": []
  },
  {
   "cell_type": "code",
   "execution_count": null,
   "metadata": {},
   "outputs": [],
   "source": [
    "多元回归"
   ]
  },
  {
   "cell_type": "code",
   "execution_count": null,
   "metadata": {},
   "outputs": [],
   "source": []
  },
  {
   "cell_type": "code",
   "execution_count": 31,
   "metadata": {},
   "outputs": [
    {
     "data": {
      "text/html": [
       "<div>\n",
       "<style scoped>\n",
       "    .dataframe tbody tr th:only-of-type {\n",
       "        vertical-align: middle;\n",
       "    }\n",
       "\n",
       "    .dataframe tbody tr th {\n",
       "        vertical-align: top;\n",
       "    }\n",
       "\n",
       "    .dataframe thead th {\n",
       "        text-align: right;\n",
       "    }\n",
       "</style>\n",
       "<table border=\"1\" class=\"dataframe\">\n",
       "  <thead>\n",
       "    <tr style=\"text-align: right;\">\n",
       "      <th></th>\n",
       "      <th>age</th>\n",
       "      <th>height</th>\n",
       "      <th>weight</th>\n",
       "    </tr>\n",
       "    <tr>\n",
       "      <th>序号</th>\n",
       "      <th></th>\n",
       "      <th></th>\n",
       "      <th></th>\n",
       "    </tr>\n",
       "  </thead>\n",
       "  <tbody>\n",
       "    <tr>\n",
       "      <th>1</th>\n",
       "      <td>21</td>\n",
       "      <td>163</td>\n",
       "      <td>60</td>\n",
       "    </tr>\n",
       "    <tr>\n",
       "      <th>2</th>\n",
       "      <td>22</td>\n",
       "      <td>164</td>\n",
       "      <td>56</td>\n",
       "    </tr>\n",
       "    <tr>\n",
       "      <th>3</th>\n",
       "      <td>21</td>\n",
       "      <td>165</td>\n",
       "      <td>60</td>\n",
       "    </tr>\n",
       "    <tr>\n",
       "      <th>4</th>\n",
       "      <td>23</td>\n",
       "      <td>168</td>\n",
       "      <td>55</td>\n",
       "    </tr>\n",
       "    <tr>\n",
       "      <th>5</th>\n",
       "      <td>21</td>\n",
       "      <td>169</td>\n",
       "      <td>60</td>\n",
       "    </tr>\n",
       "  </tbody>\n",
       "</table>\n",
       "</div>"
      ],
      "text/plain": [
       "    age  height  weight\n",
       "序号                     \n",
       "1    21     163      60\n",
       "2    22     164      56\n",
       "3    21     165      60\n",
       "4    23     168      55\n",
       "5    21     169      60"
      ]
     },
     "execution_count": 31,
     "metadata": {},
     "output_type": "execute_result"
    }
   ],
   "source": [
    "#导入cv模块\n",
    "import numpy as np\n",
    "import matplotlib as mpl\n",
    "import matplotlib.pyplot as plt\n",
    "import pandas as pd\n",
    "data=pd.read_excel('/Users//stanley//Desktop//线性回归案例.xlsx',header=0,index_col=0)\n",
    "data.head()"
   ]
  },
  {
   "cell_type": "code",
   "execution_count": 33,
   "metadata": {},
   "outputs": [
    {
     "name": "stdout",
     "output_type": "stream",
     "text": [
      "                            OLS Regression Results                            \n",
      "==============================================================================\n",
      "Dep. Variable:                 weight   R-squared:                       0.664\n",
      "Model:                            OLS   Adj. R-squared:                  0.639\n",
      "Method:                 Least Squares   F-statistic:                     26.67\n",
      "Date:                Mon, 28 Dec 2020   Prob (F-statistic):           4.05e-07\n",
      "Time:                        17:09:26   Log-Likelihood:                -92.196\n",
      "No. Observations:                  30   AIC:                             190.4\n",
      "Df Residuals:                      27   BIC:                             194.6\n",
      "Df Model:                           2                                         \n",
      "Covariance Type:            nonrobust                                         \n",
      "==============================================================================\n",
      "                 coef    std err          t      P>|t|      [0.025      0.975]\n",
      "------------------------------------------------------------------------------\n",
      "const       -140.7652     29.756     -4.731      0.000    -201.819     -79.711\n",
      "age           -0.0485      1.164     -0.042      0.967      -2.436       2.339\n",
      "height         1.1973      0.180      6.650      0.000       0.828       1.567\n",
      "==============================================================================\n",
      "Omnibus:                       15.193   Durbin-Watson:                   1.928\n",
      "Prob(Omnibus):                  0.001   Jarque-Bera (JB):               18.216\n",
      "Skew:                           1.287   Prob(JB):                     0.000111\n",
      "Kurtosis:                       5.820   Cond. No.                     4.90e+03\n",
      "==============================================================================\n",
      "\n",
      "Notes:\n",
      "[1] Standard Errors assume that the covariance matrix of the errors is correctly specified.\n",
      "[2] The condition number is large, 4.9e+03. This might indicate that there are\n",
      "strong multicollinearity or other numerical problems.\n"
     ]
    }
   ],
   "source": [
    "#多元线性回归\n",
    "import statsmodels.api as sm \n",
    "model3 = sm.OLS(data['weight'],sm.add_constant(data[['age','height']]))\n",
    "result = model3.fit()\n",
    "result.summary()  \n",
    "print(result.summary())"
   ]
  },
  {
   "cell_type": "code",
   "execution_count": null,
   "metadata": {},
   "outputs": [],
   "source": [
    "分析:经过调整的R方=0.639，拟合系数一般，并不是特别好。\n",
    "\n",
    "F统计量=26.67（检验解释变量系数是否全为0？），P-value=4.05*10-7，非常小，拒绝原假设；\n",
    "\n",
    "常数项估计-140.762，P值很小，说明截距项显著，不为0；\n",
    "\n",
    "age项估计-0.0485，P值较大>0.05，说明age项不显著，可以尝试剔除该解释变量；\n",
    "\n",
    "height项1.1973，P值很小，说明height项显著，不为0。"
   ]
  },
  {
   "cell_type": "code",
   "execution_count": 35,
   "metadata": {},
   "outputs": [
    {
     "name": "stdout",
     "output_type": "stream",
     "text": [
      "[-6.4510094  -3.9944243  -2.7855848  -1.93708176 -5.17523362 -2.83390749\n",
      " -0.44603579 -1.64991465 -1.34965816 -0.01881016]\n"
     ]
    }
   ],
   "source": [
    "y=data.weight\n",
    "X1=data[['age','height']]\n",
    "from sklearn.linear_model import LinearRegression #载入机器学习中线性回归包\n",
    "lm = LinearRegression()\n",
    "from sklearn.model_selection import cross_val_score #载入机器学习中交叉检验包\n",
    "scores1 = cross_val_score(lm, X1, y, cv=10)  #cv=10，数据分成10等均匀份\n",
    "print (scores1)"
   ]
  },
  {
   "cell_type": "code",
   "execution_count": null,
   "metadata": {},
   "outputs": [],
   "source": []
  }
 ],
 "metadata": {
  "kernelspec": {
   "display_name": "Python 3",
   "language": "python",
   "name": "python3"
  },
  "language_info": {
   "codemirror_mode": {
    "name": "ipython",
    "version": 3
   },
   "file_extension": ".py",
   "mimetype": "text/x-python",
   "name": "python",
   "nbconvert_exporter": "python",
   "pygments_lexer": "ipython3",
   "version": "3.8.5"
  }
 },
 "nbformat": 4,
 "nbformat_minor": 4
}
