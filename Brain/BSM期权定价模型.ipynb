{
 "cells": [
  {
   "cell_type": "code",
   "execution_count": null,
   "metadata": {},
   "outputs": [],
   "source": [
    "【案例分析1】考虑到时间还有6个月的股票欧式看涨期权和看跌期权。\n",
    "标的股票在2个月和5个月后各有一个除息日，每个除息日的红利期望值为$0.50.\n",
    "已知当前股票价格为$40,行权价格是$40，股票的年波动率为40%，无风险利率为9%。\n",
    "试求两种期权的价格。\n",
    "\n",
    "link: https://zhuanlan.zhihu.com/p/256356619\n",
    "        \n",
    "S0=40（基础资产在初始0时刻的价格） \n",
    "K=40（期权的执行价格） \n",
    "r=0.09（无风险利率） \n",
    "σ=0.3（基础资产价格百分比（收益率）的年化波动率） \n",
    "T=0.5（期权合约的期限（年））\n",
    "D1=0.50(红利期望值) \n",
    "t1=2/12 t2=5/12（时间）\n"
   ]
  },
  {
   "cell_type": "code",
   "execution_count": 5,
   "metadata": {},
   "outputs": [
    {
     "name": "stdout",
     "output_type": "stream",
     "text": [
      "看涨期权的价格： 3.671\n",
      "看跌期权的价格： 2.885\n"
     ]
    }
   ],
   "source": [
    "#答案\n",
    "import numpy as np\n",
    "def call_BSM(S,K,sigma,r,T):\n",
    "    '''BSM模型计算看涨期权的价格\n",
    "    S:期权基础资产的价格；\n",
    "    K：期权的执行价格；\n",
    "    V:支付红利的现值;\n",
    "    sigma:基础资产价格百分比变化的年化波动率；\n",
    "    r:无风险收益率；\n",
    "    T：期权合约的剩余期限；'''\n",
    "    import numpy as np\n",
    "    from scipy.stats import norm\n",
    "    d1=(np.log((S-V)/K)+(r+0.5*sigma**2)*T)/(sigma*np.sqrt(T))\n",
    "    d2=d1-sigma*np.sqrt(T)\n",
    "    return (S-V)*norm.cdf(d1)-K*np.exp(-r*T)*norm.cdf(d2)\n",
    "\n",
    "def put_BSM(S,K,V,sigma,r,T):\n",
    "    '''BSM模型计算看跌期权的价格\n",
    "    S:期权基础资产的价格；\n",
    "    K：期权的执行价格；\n",
    "    V:支付红利的现值;\n",
    "    sigma:基础资产价格百分比变化的年化波动率；\n",
    "    r:无风险收益率；\n",
    "    T：期权合约的剩余期限；'''\n",
    "    import numpy as np\n",
    "    from scipy.stats import norm\n",
    "    d1=(np.log((S-V)/K)+(r+0.5*sigma**2)*T)/(sigma*np.sqrt(T))\n",
    "    d2=d1-sigma*np.sqrt(T)\n",
    "    return K*np.exp(-r*T)*norm.cdf(-d2)-(S-V)*norm.cdf(-d1)\n",
    "\n",
    "A=call_BSM(S=40,K=40,V=0.5*np.exp(-0.09*2/12)+0.5*np.exp(-0.09*5/12),sigma=0.3,r=0.09,T=0.5)\n",
    "B=put_BSM(S=40,K=40,V=0.5*np.exp(-0.09*2/12)+0.5*np.exp(-0.09*5/12),sigma=0.3,r=0.09,T=0.5)\n",
    "print('看涨期权的价格：',round(A,3))\n",
    "print('看跌期权的价格：',round(B,3))"
   ]
  },
  {
   "cell_type": "code",
   "execution_count": 28,
   "metadata": {},
   "outputs": [
    {
     "name": "stdout",
     "output_type": "stream",
     "text": [
      "请输入第一期的红利：0.5\n",
      "请输入第二期的红利：0.5\n",
      "European call option_price is:  3.663831489392283\n"
     ]
    }
   ],
   "source": [
    "#自己练手修改\n",
    "import numpy as np\n",
    "from scipy.stats import norm\n",
    "#正态分布函数库：https://blog.csdn.net/lanhezhong/article/details/105677178\n",
    "r = 0.09#无风险利率\n",
    "#标的股票在2个月和5个月后各有一个除息日\n",
    "t1 = 2/12\n",
    "t2 = 5/12\n",
    "D1 = float(input('请输入第一期的红利：'))\n",
    "D2 = float(input('请输入第二期的红利：'))\n",
    "V = D1*np.exp(-r*t1) + D2*np.exp(-r*t2) \n",
    "#e^2：np.exp(2) c^(1/2):np.sqrt(c) ln(c):np.log(c)\n",
    "\n",
    "def call_BSM(S,K,sigma,T):\n",
    "    d1 = (np.log((S-V)/K))+((r+0.5*sigma**2)*T)/sigma*np.sqrt(T)\n",
    "    d2 = d1 - (sigma*np.sqrt(T))\n",
    "    return (S-V)*norm.cdf(d1)-K*np.exp(-r*T)*norm.cdf(d2)\n",
    "\n",
    "Final_P = call_BSM(40,40,0.3,0.5)\n",
    "\n",
    "print('European call option_price is: ',Final_P)\n",
    "    \n",
    "    "
   ]
  },
  {
   "cell_type": "code",
   "execution_count": 29,
   "metadata": {},
   "outputs": [
    {
     "data": {
      "image/png": "[encoded data removed]",
      "text/plain": [
       "<Figure size 432x288 with 1 Axes>"
      ]
     },
     "metadata": {
      "needs_background": "light"
     },
     "output_type": "display_data"
    }
   ],
   "source": [
    "import matplotlib.pyplot as plt\n",
    "S_list=np.linspace(30,50,100)\n",
    "call_list1=call_BSM(S=S_list,K=40,sigma=0.3,T=0.5)\n",
    "plt.title('Re_Stock&Option')\n",
    "plt.xlabel('Stock_price')\n",
    "plt.ylabel('Option_price')\n",
    "plt.plot(S_list,call_list1,'b-',label='European call option')\n",
    "plt.legend()\n",
    "plt.show()\n",
    "\n",
    "\n"
   ]
  },
  {
   "cell_type": "code",
   "execution_count": null,
   "metadata": {},
   "outputs": [],
   "source": []
  }
 ],
 "metadata": {
  "kernelspec": {
   "display_name": "Python 3",
   "language": "python",
   "name": "python3"
  },
  "language_info": {
   "codemirror_mode": {
    "name": "ipython",
    "version": 3
   },
   "file_extension": ".py",
   "mimetype": "text/x-python",
   "name": "python",
   "nbconvert_exporter": "python",
   "pygments_lexer": "ipython3",
   "version": "3.8.5"
  }
 },
 "nbformat": 4,
 "nbformat_minor": 4
}
