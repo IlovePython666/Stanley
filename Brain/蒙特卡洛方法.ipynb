{
 "cells": [
  {
   "cell_type": "code",
   "execution_count": null,
   "metadata": {},
   "outputs": [],
   "source": [
    "#蒙特卡洛方法计算pai值\n",
    "#视频链接：https://www.bilibili.com/video/BV1Gs411g7EJ?from=search&seid=15167460859184224061"
   ]
  },
  {
   "cell_type": "code",
   "execution_count": 7,
   "metadata": {},
   "outputs": [
    {
     "name": "stdout",
     "output_type": "stream",
     "text": [
      "pai is 3.108\n"
     ]
    }
   ],
   "source": [
    "import random\n",
    "\n",
    "total = 1000\n",
    "in_count=0\n",
    "\n",
    "for i in range(total):\n",
    "    x = random.random()\n",
    "    y = random.random()\n",
    "    \n",
    "    dis =(x**2+y**2)**0.5\n",
    "    \n",
    "    if dis<=1:\n",
    "        in_count+=1\n",
    "\n",
    "print('pai is',4*in_come/total)"
   ]
  },
  {
   "cell_type": "code",
   "execution_count": null,
   "metadata": {},
   "outputs": [],
   "source": []
  }
 ],
 "metadata": {
  "kernelspec": {
   "display_name": "Python 3",
   "language": "python",
   "name": "python3"
  },
  "language_info": {
   "codemirror_mode": {
    "name": "ipython",
    "version": 3
   },
   "file_extension": ".py",
   "mimetype": "text/x-python",
   "name": "python",
   "nbconvert_exporter": "python",
   "pygments_lexer": "ipython3",
   "version": "3.8.5"
  }
 },
 "nbformat": 4,
 "nbformat_minor": 4
}
