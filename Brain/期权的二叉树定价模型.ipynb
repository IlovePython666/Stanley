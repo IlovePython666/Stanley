{
 "cells": [
  {
   "cell_type": "code",
   "execution_count": null,
   "metadata": {},
   "outputs": [],
   "source": [
    "https://zhuanlan.zhihu.com/p/255135694"
   ]
  },
  {
   "cell_type": "code",
   "execution_count": 9,
   "metadata": {},
   "outputs": [
    {
     "name": "stdout",
     "output_type": "stream",
     "text": [
      "运用二叉树模型计算欧式看涨期权的价格为： 53.4\n"
     ]
    }
   ],
   "source": [
    "import numpy as np\n",
    "#二叉树模型对欧式看涨期权定价\n",
    "def binarytree_europcall(S,K,r,q,sigma,t,steps):\n",
    "    '''S:标的资产初始价格；\n",
    "    K:期权的执行价格;\n",
    "    r:年化无风险利率；\n",
    "    q:连续分红的红利率；\n",
    "    sigma:标的资产连续复利收益率的标准差；\n",
    "    t:以年表示的时间长度；\n",
    "    steps:二叉树的步长。'''\n",
    "    u=np.exp(sigma*np.sqrt(t/steps))   #时间间隔为△t=t/steps\n",
    "    d=1/u     \n",
    "    P=(np.exp((r-q)*t/steps)-d)/(u-d)\n",
    "    #基础公式\n",
    "    \n",
    "    prices=np.zeros(steps+1)       #生成最后一列的股票价格空数组\n",
    "    c_values=np.zeros(steps+1)     #生成最后一列的期权价值空数组\n",
    "    #0数组：steps=2时，是一个三个元素都是0的 array\n",
    "    \n",
    "    prices[0]=S*d**steps           #最后一行最后一列的股票价格\n",
    "    c_values[0]=np.maximum(prices[0]-K,0)#最后一行最后一列的期权价值\n",
    "    #prices[0]=663.17\n",
    "    #c_value[0]=0\n",
    "    \n",
    "    for i in range(1,steps+1):\n",
    "        prices[i]=prices[i-1]*(u**2)   #计算最后一列的股票价格\n",
    "        c_values[i]=np.maximum(prices[i]-K,0)  #计算最后一列的期权价值\n",
    "        \n",
    "    #prices[1]=prices[0]*(u**2)=sdd*uu = sdd*(1/d)*(1/d)=s=810\n",
    "    #prices[2]=prices[1]*(u**2)=suu =989.34    \n",
    "        \n",
    "    for j in range(steps,0,-1):       \n",
    "    #逐个节点往前计算\n",
    "#range(2,0,-1) 即(2,1,0) range的第三个参数是间隔切不包括第三个数 即仅有2，1\n",
    "        for i in range(0,j):\n",
    "#当j=2时，range(0,j)=range(0,2):计算期权价格的第二列\n",
    "#c_values[0]=5.06 / c_value[1]=100.66\n",
    "#当j=1时，range(0,j)=range(0,1）:计算期权价格的第一列\n",
    "#c_values[0]=53.4\n",
    "\n",
    "#期权从后往前推：P*c_values[i+1]+(1-P)*c_values[i])*np.exp(-r*t/steps\n",
    "#     （股票涨概率 * 涨了之后的期权价格 +股票跌概率 * 跌了之后的期权价格）折现\n",
    "\n",
    "            c_values[i]=(P*c_values[i+1]+(1-P)*c_values[i])*np.exp(-r*t/steps)\n",
    "    \n",
    "    return c_values[0]\n",
    "\n",
    "A=binarytree_europcall(S=810,K=800,r=0.05,q=0.02,sigma=0.2,t=0.5,steps=2)\n",
    "print('运用二叉树模型计算欧式看涨期权的价格为：',round(A,1))"
   ]
  },
  {
   "cell_type": "code",
   "execution_count": null,
   "metadata": {},
   "outputs": [],
   "source": []
  },
  {
   "cell_type": "code",
   "execution_count": 5,
   "metadata": {},
   "outputs": [
    {
     "name": "stdout",
     "output_type": "stream",
     "text": [
      "运用二叉树模型计算美式看跌期权的价格为： 3.058\n"
     ]
    }
   ],
   "source": [
    "#二叉树模型对美式看跌期权定价\n",
    "def binarytree_americaput(S,K,r,q,sigma,t,steps):\n",
    "    '''S:标的资产初始价格；\n",
    "    K:期权的执行价格;\n",
    "    r:年化无风险利率；\n",
    "    q:连续分红的红利率；\n",
    "    sigma:标的资产连续复利收益率的标准差；\n",
    "    t:以年表示的时间长度；\n",
    "    steps:二叉树的步长。'''\n",
    "    u=np.exp(sigma*np.sqrt(t/steps))\n",
    "    d=1/u\n",
    "    P=(np.exp((r-q)*t/steps)-d)/(u-d)\n",
    "    prices=np.zeros(steps+1)\n",
    "    c_values=np.zeros(steps+1)\n",
    "    prices[0]=S*d**steps\n",
    "    c_values[0]=np.maximum(K-prices[0],0)\n",
    "    for i in range(1,steps+1):\n",
    "        prices[i]=prices[i-1]*(u**2)\n",
    "        c_values[i]=np.maximum(K-prices[i],0)\n",
    "        \n",
    "    for j in range(steps,0,-1):\n",
    "        for i in range(0,j):\n",
    "            prices[i]=prices[i+1]*d #就这里不一样，要算出执行价差于欧式期权的现值对比，如果超过欧式期权折现值就要提前执行\n",
    "            c_values[i]=np.maximum((P*c_values[i+1]+(1-P)*c_values[i])*np.exp(-r*t/steps),K-prices[i])\n",
    "    return c_values[0]\n",
    "\n",
    "C=binarytree_americaput(S=29,K=30,r=0.03,q=0,sigma=0.25,t=1,steps=2)\n",
    "print('运用二叉树模型计算美式看跌期权的价格为：',round(C,3))"
   ]
  },
  {
   "cell_type": "code",
   "execution_count": 17,
   "metadata": {},
   "outputs": [
    {
     "name": "stdout",
     "output_type": "stream",
     "text": [
      "运用二叉树模型计算欧式看涨期权的价格为： 53.4\n"
     ]
    }
   ],
   "source": [
    "#欧式看涨自己打的练习\n",
    "\n",
    "import numpy as np\n",
    "def binarytree_europcall(S,K,r,q,sigma,t,steps):\n",
    "    u = np.exp(sigma*(t/steps)**(1/2))\n",
    "    d = 1/u\n",
    "    P = (np.exp((r-q)*(t/steps))-d)/(u-d)\n",
    "     \n",
    "    prices=np.zeros(steps+1)\n",
    "    c_values=np.zeros(steps+1)\n",
    "    \n",
    "    prices[0]=S*d**steps\n",
    "    c_values[0]=np.maximum(prices[0]-K,0)\n",
    "    #可以先不算期权最后一行最后一列的价格\n",
    "    \n",
    "    for i in range(1,steps+1):\n",
    "        prices[i]=prices[i-1]*(u**2)\n",
    "        #c_values[i]=np.maximum(prices[i]-K,0)\n",
    "        #此处仅构建股票最后一列前两行的价格\n",
    "        \n",
    "#如果不要先算期权的最后一行的最后一列，可以额外构建一个for循环\n",
    "#此处先算是因为最后一列的前两行，即c_values[1,2]的构建方法和股票价格相同\n",
    "\n",
    "    for i in range(0,steps+1):\n",
    "       c_values[i]=np.maximum(prices[i]-K,0)\n",
    "        #期权最后一列的价格\n",
    "        \n",
    "    for j in range(steps,0,-1):\n",
    "        for i in range(0,j):\n",
    "            prices[i]=prices[i]*u\n",
    "            c_values[i]=((1-P)*c_values[i]+P*c_values[i+1])*(np.exp(-r*t/steps))\n",
    "            \n",
    "    return c_values[0]\n",
    "\n",
    "\n",
    "            \n",
    "A=binarytree_europcall(S=810,K=800,r=0.05,q=0.02,sigma=0.2,t=0.5,steps=2)\n",
    "print('运用二叉树模型计算欧式看涨期权的价格为：',round(A,1))\n",
    "            \n",
    "    \n",
    "    \n",
    "    \n",
    "    "
   ]
  },
  {
   "cell_type": "code",
   "execution_count": null,
   "metadata": {},
   "outputs": [],
   "source": []
  }
 ],
 "metadata": {
  "kernelspec": {
   "display_name": "Python 3",
   "language": "python",
   "name": "python3"
  },
  "language_info": {
   "codemirror_mode": {
    "name": "ipython",
    "version": 3
   },
   "file_extension": ".py",
   "mimetype": "text/x-python",
   "name": "python",
   "nbconvert_exporter": "python",
   "pygments_lexer": "ipython3",
   "version": "3.8.5"
  }
 },
 "nbformat": 4,
 "nbformat_minor": 4
}
