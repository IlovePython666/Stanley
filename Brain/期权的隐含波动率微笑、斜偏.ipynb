{
 "cells": [
  {
   "cell_type": "code",
   "execution_count": 2,
   "metadata": {},
   "outputs": [
    {
     "name": "stdout",
     "output_type": "stream",
     "text": [
      "非线性优化方法计算看涨期权的隐含波动率 [0.248455]\n",
      "非线性优化方法计算看跌期权的隐含波动率 [0.207933]\n"
     ]
    }
   ],
   "source": [
    "#非线性优化方法求解期权的隐含波动率\n",
    "#隐含波动率就是使得模型估计的期权价格等于真实价格时候的sigma值\n",
    "from scipy.stats import norm\n",
    "import numpy as np\n",
    "import scipy.optimize as so\n",
    "def BSM_imply_vo(P,S,K,r,T,op_type):\n",
    "    '''非线性优化方法求解期权的隐含波动率\n",
    "    P:期权的市场价格；\n",
    "    S:基础资产的价格；\n",
    "    K:期权的执行价格；\n",
    "    r:无风险收益率；\n",
    "    T:期权合约的剩余期限；\n",
    "    op_type:输入'call'表示看涨期权；输入'put'表示看跌期权。'''\n",
    "    def f(sigma):\n",
    "        d1=(np.log(S/K)+(r+0.5*sigma**2)*T)/(sigma*np.sqrt(T))\n",
    "        d2=d1-sigma*np.sqrt(T)\n",
    "        bscall=S*norm.cdf(d1)-K*np.exp(-r*T)*norm.cdf(d2)\n",
    "        bsput=-S*norm.cdf(-d1)+K*np.exp(-r*T)*norm.cdf(-d2)   \n",
    "        if op_type=='call':\n",
    "            return bscall-P #即解 bscall-p = 0 默认省略0 \n",
    "        #so.fsolve函数就是一个求解非线性方程（也就是复杂方程）\n",
    "#so.fsolve(function,X0)\n",
    "#function代表定义的非线性方程，X0代表一个初始值（不重要，可以输入0，0.1）\n",
    "#对于非线性优化方法，其解法基本都是迭代方法：给定一个起始点 X0，\n",
    "#不断迭代产生新的 X1,X2,X3... ，并最终收敛至 X* 。\n",
    "\n",
    "        else:\n",
    "            return bsput-P\n",
    "    return so.fsolve(f,0.2)\n",
    "#这个0.2只是一个x0 不重要没有什么实际意义\n",
    "        \n",
    "print('非线性优化方法计算看涨期权的隐含波动率',np.round(BSM_imply_vo(0.16,5.3,6,0.03,0.5,'call'),6))\n",
    "print('非线性优化方法计算看跌期权的隐含波动率',np.round(BSM_imply_vo(0.72,5.3,6,0.03,0.5,'put'),6))"
   ]
  },
  {
   "cell_type": "code",
   "execution_count": 3,
   "metadata": {},
   "outputs": [
    {
     "name": "stdout",
     "output_type": "stream",
     "text": [
      "二分法计算看涨期权的隐含波动率 0.248454\n",
      "二分法计算看跌期权的隐含波动率 0.207933\n"
     ]
    }
   ],
   "source": [
    "\n",
    "#二分法求解期权的隐含波动率\n",
    "def binary_imply_vo(P,S,K,r,T,op_type):\n",
    "    '''二分法求解期权的隐含波动率\n",
    "    P:期权的市场价格；\n",
    "    S:基础资产的价格；\n",
    "    K:期权的执行价格；\n",
    "    r:无风险收益率；\n",
    "    T:期权合约的剩余期限；\n",
    "    op_type:输入'call'表示看涨期权；输入'put'表示看跌期权。'''        \n",
    "    def BSM_model(S,K,sigma,r,T,op_type):\n",
    "        import numpy as np\n",
    "        from scipy.stats import norm\n",
    "        d1=(np.log(S/K)+(r+0.5*sigma**2)*T)/(sigma*np.sqrt(T))\n",
    "        d2=d1-sigma*np.sqrt(T)\n",
    "        if op_type=='call':\n",
    "            BSM_model=S*norm.cdf(d1)-K*np.exp(-r*T)*norm.cdf(d2)\n",
    "        else:\n",
    "            BSM_model=-S*norm.cdf(-d1)+K*np.exp(-r*T)*norm.cdf(-d2) \n",
    "        return BSM_model\n",
    "    sigma_down=0.000001\n",
    "    sigma_up=1\n",
    "    sigma_mid=(sigma_down+sigma_up)/2\n",
    "    op_min=BSM_model(S,K,sigma_down,r,T,op_type)\n",
    "    op_max=BSM_model(S,K,sigma_up,r,T,op_type)\n",
    "    op_mid=BSM_model(S,K,sigma_mid,r,T,op_type)\n",
    "    diff=P-op_mid\n",
    "    if P<op_min or P>op_max:\n",
    "        print('错误')\n",
    "    while abs(diff)>1e-6:\n",
    "#abs绝对值\n",
    "#1e-6表示1乘以10的负6次方，大于等价于大于0\n",
    "#我们需要差异等于0，二分法思想，当diff=0时，模型与现实相同\n",
    "\n",
    "        #diff=P-BSM_model(S,K,sigma_mid,r,T,op_type)\n",
    "        sigma_mid=(sigma_down+sigma_up)/2\n",
    "        op_mid=BSM_model(S,K,sigma_mid,r,T,op_type)\n",
    "        diff=P-op_mid\n",
    "        if P>op_mid:\n",
    "            sigma_down=sigma_mid\n",
    "#当实际价格大于sigma_mid估计的op_mid时，取后半个区间继续用二分法\n",
    "#如P=0.7，（0，1）为第一个区间，因为0.7大于0.5，故第二个区间为（0.5，1）\n",
    "#即第二个区间的下限是第一个区间的中限\n",
    "        else:\n",
    "            sigma_up=sigma_mid\n",
    "    return sigma_mid\n",
    "\n",
    "print('二分法计算看涨期权的隐含波动率',np.round(binary_imply_vo(0.16,5.3,6,0.03,0.5,'call'),6))    \n",
    "print('二分法计算看跌期权的隐含波动率',np.round(binary_imply_vo(0.72,5.3,6,0.03,0.5,'put'),6))"
   ]
  },
  {
   "cell_type": "code",
   "execution_count": null,
   "metadata": {},
   "outputs": [],
   "source": [
    "def binary_imply_vo(P,S,K,r,T,op_type):\n",
    "    def BSM_model(S,K,sigma,r,T,op_type):\n",
    "        import numpy as np\n",
    "        from scipy.stats import norm\n",
    "        d1=(np.log(S/K)+(r+0.5*sigma**2)*T)/(sigma*np.sqrt(T))\n",
    "        d2=d1-sigma*np.sqrt(T)\n",
    "        if op_type=='call':\n",
    "            BSM_model=S*norm.cdf(d1)-K*np.exp(-r*T)*norm.cdf(d2)\n",
    "        else:\n",
    "            BSM_model=-S*norm.cdf(-d1)+K*np.exp(-r*T)*norm.cdf(-d2) \n",
    "        return BSM_model\n",
    "    \n",
    "    sigma_down=0.000001\n",
    "    sigma_up=1\n",
    "    sigma_mid=(sigma_down+sigma_up)/2\n",
    "    op_min=BSM_model(S,K,sigma_down,r,T,op_type)\n",
    "    op_max=BSM_model(S,K,sigma_up,r,T,op_type)\n",
    "    op_mid=BSM_model(S,K,sigma_mid,r,T,op_type)\n",
    "    diff=P-op_mid\n",
    "    if P<op_min or P>op_max:\n",
    "        print('错误')\n",
    "    "
   ]
  }
 ],
 "metadata": {
  "kernelspec": {
   "display_name": "Python 3",
   "language": "python",
   "name": "python3"
  },
  "language_info": {
   "codemirror_mode": {
    "name": "ipython",
    "version": 3
   },
   "file_extension": ".py",
   "mimetype": "text/x-python",
   "name": "python",
   "nbconvert_exporter": "python",
   "pygments_lexer": "ipython3",
   "version": "3.8.5"
  }
 },
 "nbformat": 4,
 "nbformat_minor": 4
}
