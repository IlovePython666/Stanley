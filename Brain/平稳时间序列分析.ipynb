{
 "cells": [
  {
   "cell_type": "code",
   "execution_count": 2,
   "metadata": {},
   "outputs": [],
   "source": [
    "import numpy as np \n",
    "import pandas as pd\n",
    "from pandas import Series\n",
    "import statsmodels.api as sm\n",
    "from statsmodels.graphics.tsaplots import acf,pacf,plot_acf,plot_pacf\n",
    "from statsmodels.tsa.arima_model import ARMA, ARIMA \n",
    "from statsmodels.tsa.stattools import adfuller\n",
    "import matplotlib.pyplot as plt\n",
    "from pylab import mpl"
   ]
  },
  {
   "cell_type": "code",
   "execution_count": 4,
   "metadata": {},
   "outputs": [
    {
     "name": "stdout",
     "output_type": "stream",
     "text": [
      "/Users/stanley/Desktop/python/Brain\n"
     ]
    }
   ],
   "source": [
    "#获取默认路径\n",
    "import os\n",
    "print (os.path.abspath('.'))"
   ]
  },
  {
   "cell_type": "code",
   "execution_count": 7,
   "metadata": {},
   "outputs": [],
   "source": [
    "data=pd.read_excel('//Users//stanley//Desktop//时间序列分析.xlsx',sheet_name='平稳时间序列',header=0,index_col=0)"
   ]
  },
  {
   "cell_type": "code",
   "execution_count": 8,
   "metadata": {},
   "outputs": [],
   "source": [
    "ts1 = pd.Series(data['data'].values)  #转化为时间序列数据\n",
    "ts1.index = pd.Index(sm.tsa.datetools.dates_from_range('1931','2019')) #添加日期"
   ]
  },
  {
   "cell_type": "code",
   "execution_count": 9,
   "metadata": {},
   "outputs": [
    {
     "data": {
      "text/plain": [
       "1931-12-31    -6.12\n",
       "1932-12-31     2.77\n",
       "1933-12-31     3.77\n",
       "1934-12-31   -32.66\n",
       "1935-12-31    -9.50\n",
       "              ...  \n",
       "2015-12-31    10.50\n",
       "2016-12-31    -5.74\n",
       "2017-12-31    -5.85\n",
       "2018-12-31   -36.32\n",
       "2019-12-31    -6.59\n",
       "Length: 89, dtype: float64"
      ]
     },
     "execution_count": 9,
     "metadata": {},
     "output_type": "execute_result"
    }
   ],
   "source": [
    "ts1"
   ]
  },
  {
   "cell_type": "code",
   "execution_count": 17,
   "metadata": {
    "scrolled": true
   },
   "outputs": [
    {
     "data": {
      "text/plain": [
       "Test Statistic                 -4.993859\n",
       "p-value                         0.000023\n",
       "Lags Used                      12.000000\n",
       "Number of Observations Used    76.000000\n",
       "Critical Value (1%)            -3.519481\n",
       "Critical Value (5%)            -2.900395\n",
       "Critical Value (10%)           -2.587498\n",
       "dtype: float64"
      ]
     },
     "execution_count": 17,
     "metadata": {},
     "output_type": "execute_result"
    }
   ],
   "source": [
    "#ADF单位根检验\n",
    "def adf_test(ts):\n",
    "    adftest = adfuller(ts)\n",
    "    adf_res = pd.Series(adftest[0:4], index=['Test Statistic','p-value','Lags Used','Number of Observations Used'])\n",
    "    for key, value in adftest[4].items():\n",
    "        adf_res['Critical Value (%s)' % key] = value\n",
    "    return adf_res\n",
    "adf_test(ts1)\n",
    "#ADF检验的原假设是：有单位根。\n",
    "#单位根检验是指检验序列中是否存在单位根，因为存在单位根就是非平稳时间序列了。\n",
    "#单位根就是指单位根过程，可以证明，序列中存在单位根过程就不平稳，会使回归\n",
    "#分析中存在伪回归。"
   ]
  },
  {
   "cell_type": "code",
   "execution_count": null,
   "metadata": {},
   "outputs": [],
   "source": [
    "np.r_：是按列连接两个矩阵，就是把两矩阵上下相加，要求列数相等，\n",
    "类似于pandas中的concat()。\n",
    "np.c_：是按行连接两个矩阵，就是把两矩阵左右相加，要求行数相等，\n",
    "类似于pandas中的merge()。"
   ]
  },
  {
   "cell_type": "code",
   "execution_count": 23,
   "metadata": {},
   "outputs": [
    {
     "name": "stdout",
     "output_type": "stream",
     "text": [
      "     lag        AC           Q       PAC      Prob(>Q)\n",
      "0    1.0 -0.164778    2.498904 -0.164778  1.139256e-01\n",
      "1    2.0 -0.184646    5.672805 -0.217709  5.863623e-02\n",
      "2    3.0 -0.096175    6.543888 -0.182467  8.794764e-02\n",
      "3    4.0 -0.112939    7.759245 -0.237848  1.008063e-01\n",
      "4    5.0 -0.081462    8.399068 -0.268846  1.355705e-01\n",
      "5    6.0 -0.139750   10.304770 -0.439222  1.123904e-01\n",
      "6    7.0  0.654225   52.578632  0.470634  4.489579e-09\n",
      "7    8.0 -0.085409   53.308005  0.020832  9.401080e-09\n",
      "8    9.0 -0.132152   55.076020  0.097069  1.177992e-08\n",
      "9   10.0 -0.114121   56.411182 -0.067540  1.719128e-08\n",
      "10  11.0 -0.121493   57.943809 -0.056748  2.228599e-08\n",
      "11  12.0 -0.116190   59.363774 -0.267602  2.947531e-08\n",
      "12  13.0 -0.092469   60.274962 -0.157946  4.690885e-08\n",
      "13  14.0  0.633483  103.610027  0.219552  9.605990e-16\n",
      "14  15.0 -0.159470  106.393317 -0.180168  7.915249e-16\n",
      "15  16.0 -0.125674  108.145585 -0.059986  1.008804e-15\n",
      "16  17.0  0.003601  108.147043  0.114934  2.690138e-15\n",
      "17  18.0 -0.126600  109.975327 -0.010721  3.180868e-15\n",
      "18  19.0 -0.149917  112.575699 -0.160550  2.666652e-15\n",
      "19  20.0 -0.029338  112.676726  0.077533  6.367455e-15\n",
      "20  21.0  0.545983  148.180982  0.024245  3.890046e-21\n",
      "21  22.0 -0.046092  148.437785  0.138444  9.426748e-21\n",
      "22  23.0 -0.149420  151.177485  0.031550  7.663242e-21\n",
      "23  24.0 -0.062808  151.669020 -0.039387  1.621195e-20\n",
      "24  25.0 -0.046461  151.942183  0.064953  3.694294e-20\n",
      "25  26.0 -0.142140  154.539475  0.025196  3.090818e-20\n",
      "26  27.0  0.005911  154.544039  0.102494  7.651042e-20\n",
      "27  28.0  0.445586  180.905197  0.000860  2.646066e-24\n",
      "28  29.0 -0.064627  181.468977  0.068178  5.370071e-24\n",
      "29  30.0 -0.164304  185.174744 -0.121474  2.827322e-24\n",
      "30  31.0 -0.025019  185.262152  0.013335  6.869164e-24\n",
      "31  32.0 -0.069758  185.953581  0.002059  1.274037e-23\n",
      "32  33.0 -0.130102  188.401571  0.064499  1.118969e-23\n",
      "33  34.0 -0.001196  188.401781 -0.156203  2.710662e-23\n",
      "34  35.0  0.352916  207.081950 -0.038666  2.653966e-26\n",
      "35  36.0 -0.009496  207.095729  0.013327  6.501164e-26\n",
      "36  37.0 -0.145512  210.393531  0.026828  3.990574e-26\n",
      "37  38.0 -0.026437  210.504525  0.001323  9.200348e-26\n",
      "38  39.0 -0.073147  211.371198 -0.116812  1.532154e-25\n",
      "39  40.0 -0.122564  213.854093  0.004664  1.299183e-25\n"
     ]
    },
    {
     "name": "stderr",
     "output_type": "stream",
     "text": [
      "/Users/stanley/opt/anaconda3/lib/python3.8/site-packages/statsmodels/tsa/stattools.py:652: FutureWarning: The default number of lags is changing from 40 tomin(int(10 * np.log10(nobs)), nobs - 1) after 0.12is released. Set the number of lags to an integer to  silence this warning.\n",
      "  warnings.warn(\n",
      "/Users/stanley/opt/anaconda3/lib/python3.8/site-packages/statsmodels/tsa/stattools.py:662: FutureWarning: fft=True will become the default after the release of the 0.12 release of statsmodels. To suppress this warning, explicitly set fft=False.\n",
      "  warnings.warn(\n",
      "/Users/stanley/opt/anaconda3/lib/python3.8/site-packages/statsmodels/tsa/stattools.py:1016: FutureWarning: The default number of lags is changing from 40 tomin(int(10 * np.log10(nobs)), nobs // 2 - 1) after 0.12is released. Set the number of lags to an integer to  silence this warning.\n",
      "  warnings.warn(\n"
     ]
    },
    {
     "data": {
      "image/png": "[encoded data removed]",
      "text/plain": [
       "<Figure size 432x288 with 1 Axes>"
      ]
     },
     "metadata": {
      "needs_background": "light"
     },
     "output_type": "display_data"
    },
    {
     "data": {
      "image/png": "[encoded data removed]",
      "text/plain": [
       "<Figure size 432x288 with 1 Axes>"
      ]
     },
     "metadata": {
      "needs_background": "light"
     },
     "output_type": "display_data"
    }
   ],
   "source": [
    "# Ljung-Box 统计检验；绘制ACF,PACF图，确定模型阶数\n",
    "def get_pdq(ts): \n",
    "    r,rac,Q = sm.tsa.acf(ts, qstat=True)\n",
    "    prac = pacf(ts,method='ywmle')\n",
    "    table_data = np.c_[range(1,len(r)), r[1:],rac,prac[1:len(rac)+1],Q]\n",
    "    table = pd.DataFrame(table_data, columns=['lag', \"AC\",\"Q\", \"PAC\", \"Prob(>Q)\"])\n",
    "    print(table)\n",
    "    plot_acf(ts)\n",
    "    plot_pacf(ts)\n",
    "    plt.show()\n",
    "get_pdq(ts1)"
   ]
  },
  {
   "cell_type": "code",
   "execution_count": 24,
   "metadata": {},
   "outputs": [
    {
     "name": "stderr",
     "output_type": "stream",
     "text": [
      "/Users/stanley/opt/anaconda3/lib/python3.8/site-packages/statsmodels/tsa/arima_model.py:472: FutureWarning: \n",
      "statsmodels.tsa.arima_model.ARMA and statsmodels.tsa.arima_model.ARIMA have\n",
      "been deprecated in favor of statsmodels.tsa.arima.model.ARIMA (note the .\n",
      "between arima and model) and\n",
      "statsmodels.tsa.SARIMAX. These will be removed after the 0.12 release.\n",
      "\n",
      "statsmodels.tsa.arima.model.ARIMA makes use of the statespace framework and\n",
      "is both well tested and maintained.\n",
      "\n",
      "To silence this warning and continue using ARMA and ARIMA until they are\n",
      "removed, use:\n",
      "\n",
      "import warnings\n",
      "warnings.filterwarnings('ignore', 'statsmodels.tsa.arima_model.ARMA',\n",
      "                        FutureWarning)\n",
      "warnings.filterwarnings('ignore', 'statsmodels.tsa.arima_model.ARIMA',\n",
      "                        FutureWarning)\n",
      "\n",
      "  warnings.warn(ARIMA_DEPRECATION_WARN, FutureWarning)\n",
      "/Users/stanley/opt/anaconda3/lib/python3.8/site-packages/statsmodels/tsa/base/tsa_model.py:524: ValueWarning: No frequency information was provided, so inferred frequency A-DEC will be used.\n",
      "  warnings.warn('No frequency information was'\n",
      "/Users/stanley/opt/anaconda3/lib/python3.8/site-packages/statsmodels/tsa/base/tsa_model.py:524: ValueWarning: No frequency information was provided, so inferred frequency A-DEC will be used.\n",
      "  warnings.warn('No frequency information was'\n",
      "/Users/stanley/opt/anaconda3/lib/python3.8/site-packages/statsmodels/tsa/arima_model.py:472: FutureWarning: \n",
      "statsmodels.tsa.arima_model.ARMA and statsmodels.tsa.arima_model.ARIMA have\n",
      "been deprecated in favor of statsmodels.tsa.arima.model.ARIMA (note the .\n",
      "between arima and model) and\n",
      "statsmodels.tsa.SARIMAX. These will be removed after the 0.12 release.\n",
      "\n",
      "statsmodels.tsa.arima.model.ARIMA makes use of the statespace framework and\n",
      "is both well tested and maintained.\n",
      "\n",
      "To silence this warning and continue using ARMA and ARIMA until they are\n",
      "removed, use:\n",
      "\n",
      "import warnings\n",
      "warnings.filterwarnings('ignore', 'statsmodels.tsa.arima_model.ARMA',\n",
      "                        FutureWarning)\n",
      "warnings.filterwarnings('ignore', 'statsmodels.tsa.arima_model.ARIMA',\n",
      "                        FutureWarning)\n",
      "\n",
      "  warnings.warn(ARIMA_DEPRECATION_WARN, FutureWarning)\n",
      "/Users/stanley/opt/anaconda3/lib/python3.8/site-packages/statsmodels/tsa/base/tsa_model.py:524: ValueWarning: No frequency information was provided, so inferred frequency A-DEC will be used.\n",
      "  warnings.warn('No frequency information was'\n",
      "/Users/stanley/opt/anaconda3/lib/python3.8/site-packages/statsmodels/tsa/base/tsa_model.py:524: ValueWarning: No frequency information was provided, so inferred frequency A-DEC will be used.\n",
      "  warnings.warn('No frequency information was'\n"
     ]
    },
    {
     "name": "stdout",
     "output_type": "stream",
     "text": [
      "759.9822616626196 782.3799889902089 769.010142794677\n",
      "761.3713123954104 786.2576760927318 771.4022914310297\n",
      "801.4147015090409 818.8351560971659 808.4363868339744\n",
      "808.8672224300728 823.7990406484657 814.8858098514444\n"
     ]
    }
   ],
   "source": [
    "\n",
    "#采用AIC,BIC,HQIC三准则，选择结果最小的模型效果最好\n",
    "arma_mod1 = sm.tsa.ARMA(ts1,(4,0)).fit()\n",
    "arma_mod2 = sm.tsa.ARMA(ts1,(4,1)).fit()\n",
    "arma_mod3 = sm.tsa.ARMA(ts1,(7,0)).fit()\n",
    "arma_mod4 = sm.tsa.ARMA(ts1,(7,1)).fit()\n",
    "print(arma_mod3.aic,arma_mod3.bic,arma_mod3.hqic)\n",
    "print(arma_mod4.aic,arma_mod4.bic,arma_mod4.hqic)\n",
    "print(arma_mod2.aic,arma_mod2.bic,arma_mod2.hqic)\n",
    "print(arma_mod1.aic,arma_mod1.bic,arma_mod1.hqic)"
   ]
  },
  {
   "cell_type": "code",
   "execution_count": null,
   "metadata": {},
   "outputs": [],
   "source": []
  }
 ],
 "metadata": {
  "kernelspec": {
   "display_name": "Python 3",
   "language": "python",
   "name": "python3"
  },
  "language_info": {
   "codemirror_mode": {
    "name": "ipython",
    "version": 3
   },
   "file_extension": ".py",
   "mimetype": "text/x-python",
   "name": "python",
   "nbconvert_exporter": "python",
   "pygments_lexer": "ipython3",
   "version": "3.8.5"
  }
 },
 "nbformat": 4,
 "nbformat_minor": 4
}
