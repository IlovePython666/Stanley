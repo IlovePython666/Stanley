{
 "cells": [
  {
   "cell_type": "code",
   "execution_count": 2,
   "metadata": {},
   "outputs": [],
   "source": [
    "import numpy as np\n",
    "import operator\n",
    "from scipy import stats \n",
    "import math \n",
    "A=[0.9,0.15,-0.6]\n",
    "B=[0.2,0.15,0.1]\n",
    "P=[0.3,0.4,0.3]\n",
    "r_A=np.dot(A,P)   #A项目期望报酬率预期值 np.dot([1,2,3],[4,5,6]) = 1*4 + 2*5 + 3*6 = 32 \n",
    "r_B=np.dot(B,P)   #B项目期望报酬率预期值\n",
    "sd_A=np.sqrt(np.dot(P,(A-r_A)**2))  #A项目期望报酬率的标准差 \n",
    "sd_B=np.sqrt(np.dot(P,(B-r_B)**2))  #B项目期望报酬率的标准差\n",
    "\n"
   ]
  },
  {
   "cell_type": "code",
   "execution_count": 4,
   "metadata": {},
   "outputs": [
    {
     "data": {
      "text/plain": [
       "0.03872983346207417"
      ]
     },
     "execution_count": 4,
     "metadata": {},
     "output_type": "execute_result"
    }
   ],
   "source": [
    "sd_B\n"
   ]
  },
  {
   "cell_type": "code",
   "execution_count": null,
   "metadata": {},
   "outputs": [],
   "source": [
    "（三）变异系数\n",
    "\n",
    "（1）是标准差与均值的之比，它从相对角度观察差异和离散程度的统计量指标。\n",
    "\n",
    "（2）变异系数=标准差/均值\n",
    "\n",
    "（3）变异系数衡量投资项目相对风险，变异系数越大，相对风险越大。变异系数指标的适用范围较广，尤其适用于预期值不同的项目风险程度比较。"
   ]
  },
  {
   "cell_type": "code",
   "execution_count": null,
   "metadata": {},
   "outputs": [],
   "source": [
    "import numpy as np\n",
    "import operator\n",
    "from scipy import stats \n",
    "import math \n",
    "A=[0.26,0.11,0.15,0.27,0.21,0.32]\n",
    "B=[0.13,0.21,0.27,0.41,0.22,0.32]\n",
    "mean_A=np.mean(A) #A股票平均收益率\n",
    "mean_B=np.mean(B) #B股票平均收益率\n",
    "sd_A= np.std(A,ddof = 1) #A股票标准差 np.std(A,ddof=1) ddof=1是必须的 \n",
    "sd_B= np.std(B,ddof = 1) #B股票标准差\n",
    "cv_A=sd_A/mean_A  #A股票变异系数\n",
    "cv_B=sd_B/mean_B  #B股票变异系数\n",
    "\n"
   ]
  },
  {
   "cell_type": "code",
   "execution_count": 18,
   "metadata": {},
   "outputs": [
    {
     "data": {
      "text/plain": [
       "array([0.004116, 0.006744])"
      ]
     },
     "execution_count": 18,
     "metadata": {},
     "output_type": "execute_result"
    }
   ],
   "source": [
    "import numpy as np\n",
    "import operator\n",
    "from scipy import stats \n",
    "import math \n",
    "A=[0.26,0.11,0.15,0.27,0.21,0.32]\n",
    "B=[0.13,0.21,0.27,0.41,0.22,0.32]\n",
    "mean_A=np.mean(A)\n",
    "mean_B=np.mean(B)\n",
    "W=[0.4,0.6]\n",
    "R_mean=[mean_A,mean_B]   #A,B股票各自平均收益率\n",
    "R_port=np.dot(W,R_mean)  #A,B股票按比例投资后平均收益率\n",
    "R=np.vstack((A,B))\n",
    "R_cov=np.cov(R)  #A,B股票的协方差\n",
    "vol_port=np.sqrt(np.dot(W,np.dot(R_cov,W))) #A,B股票组合的标准差\n",
    "np.dot(R_cov,W)\n"
   ]
  },
  {
   "cell_type": "code",
   "execution_count": 19,
   "metadata": {},
   "outputs": [
    {
     "data": {
      "text/plain": [
       "0.0056928"
      ]
     },
     "execution_count": 19,
     "metadata": {},
     "output_type": "execute_result"
    }
   ],
   "source": [
    "np.dot(W,np.dot(R_cov,W))"
   ]
  },
  {
   "cell_type": "code",
   "execution_count": 20,
   "metadata": {},
   "outputs": [
    {
     "name": "stdout",
     "output_type": "stream",
     "text": [
      "Requirement already satisfied: xlrd==1.2.0 in /Users/stanley/opt/anaconda3/lib/python3.8/site-packages (1.2.0)\n",
      "Note: you may need to restart the kernel to use updated packages.\n"
     ]
    }
   ],
   "source": [
    "pip install xlrd==1.2.0"
   ]
  },
  {
   "cell_type": "code",
   "execution_count": null,
   "metadata": {},
   "outputs": [],
   "source": []
  }
 ],
 "metadata": {
  "kernelspec": {
   "display_name": "Python 3",
   "language": "python",
   "name": "python3"
  },
  "language_info": {
   "codemirror_mode": {
    "name": "ipython",
    "version": 3
   },
   "file_extension": ".py",
   "mimetype": "text/x-python",
   "name": "python",
   "nbconvert_exporter": "python",
   "pygments_lexer": "ipython3",
   "version": "3.8.5"
  }
 },
 "nbformat": 4,
 "nbformat_minor": 4
}
